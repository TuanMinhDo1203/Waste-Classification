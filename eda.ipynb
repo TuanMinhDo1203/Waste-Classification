{
 "cells": [
  {
   "cell_type": "markdown",
   "metadata": {},
   "source": [
    "# Phân tích Dataset Garbage Classification\n",
    "## 1. Giới thiệu tổng quan\n",
    "Notebook này thực hiện các thao tác phân tích cơ bản cho dataset phân loại rác thải. Chúng ta sẽ khám phá:\n",
    "- Cấu trúc thư mục\n",
    "- Phân bố các lớp\n",
    "- Thống kê hình ảnh\n",
    "- Hiển thị mẫu dữ liệu"
   ]
  },
  {
   "cell_type": "code",
   "execution_count": null,
   "metadata": {},
   "outputs": [],
   "source": [
    "# Import các thư viện cần thiết\n",
    "import os\n",
    "import matplotlib.pyplot as plt\n",
    "from PIL import Image\n",
    "import pandas as pd\n",
    "import numpy as np"
   ]
  },
  {
   "cell_type": "markdown",
   "metadata": {},
   "source": [
    "## 2. Khám phá cấu trúc dataset\n",
    "Phân tích cấu trúc thư mục và đếm số lượng mẫu trong từng lớp"
   ]
  },
  {
   "cell_type": "code",
   "execution_count": null,
   "metadata": {},
   "outputs": [],
   "source": [
    "dataset_path = 'garbage_dataset'\n",
    "classes = os.listdir(dataset_path)\n",
    "class_counts = {}\n",
    "image_formats = {}\n",
    "image_sizes = []\n",
    "\n",
    "for cls in classes:\n",
    "    class_path = os.path.join(dataset_path, cls)\n",
    "    if os.path.isdir(class_path):\n",
    "        images = os.listdir(class_path)\n",
    "        class_counts[cls] = len(images)\n",
    "        \n",
    "        # Lấy thông tin định dạng ảnh\n",
    "        for img_file in images[:100]:  # Kiểm tra 100 ảnh đầu tiên mỗi lớp\n",
    "            img_path = os.path.join(class_path, img_file)\n",
    "            try:\n",
    "                with Image.open(img_path) as img:\n",
    "                    fmt = img.format\n",
    "                    image_formats[fmt] = image_formats.get(fmt, 0) + 1\n",
    "                    image_sizes.append(img.size)\n",
    "            except Exception as e:\n",
    "                print(f\"Lỗi khi mở ảnh {img_path}: {e}\")"
   ]
  },
  {
   "cell_type": "markdown",
   "metadata": {},
   "source": [
    "## 3. Phân bố các lớp\n",
    "Hiển thị số lượng mẫu trong từng lớp dạng biểu đồ"
   ]
  },
  {
   "cell_type": "code",
   "execution_count": null,
   "metadata": {},
   "outputs": [],
   "source": [
    "# Vẽ biểu đồ phân phối lớp\n",
    "plt.figure(figsize=(12,6))\n",
    "bars = plt.bar(class_counts.keys(), class_counts.values())\n",
    "plt.title('Phân bố số lượng ảnh theo lớp')\n",
    "plt.xlabel('Loại rác')\n",
    "plt.ylabel('Số lượng ảnh')\n",
    "plt.xticks(rotation=45)\n",
    "\n",
    "# Thêm số liệu lên các cột\n",
    "for bar in bars:\n",
    "    height = bar.get_height()\n",
    "    plt.text(bar.get_x() + bar.get_width()/2., height,\n",
    "             f'{height}',\n",
    "             ha='center', va='bottom')\n",
    "\n",
    "plt.show()"
   ]
  },
  {
   "cell_type": "markdown",
   "metadata": {},
   "source": [
    "## 4. Thống kê định dạng ảnh\n",
    "Kiểm tra các định dạng file ảnh tồn tại trong dataset"
   ]
  },
  {
   "cell_type": "code",
   "execution_count": null,
   "metadata": {},
   "outputs": [],
   "source": [
    "# Hiển thị phân bố định dạng ảnh\n",
    "print(\"\\nThống kê định dạng ảnh:\")\n",
    "for fmt, count in image_formats.items():\n",
    "    print(f\"- {fmt}: {count} ảnh\")\n",
    "\n",
    "# Thống kê kích thước ảnh\n",
    "widths, heights = zip(*image_sizes)\n",
    "print(f\"\\nKích thước ảnh trung bình: {np.mean(widths):.1f}x{np.mean(heights):.1f}\")\n",
    "print(f\"Kích thước phổ biến nhất: {pd.Series(image_sizes).mode()[0]}\")"
   ]
  },
  {
   "cell_type": "markdown",
   "metadata": {},
   "source": [
    "## 5. Hiển thị mẫu ảnh\n",
    "Xem trước một số ảnh đại diện từ các lớp"
   ]
  },
  {
   "cell_type": "code",
   "execution_count": null,
   "metadata": {},
   "outputs": [],
   "source": [
    "# Hiển thị ảnh mẫu\n",
    "plt.figure(figsize=(15,10))\n",
    "for i, cls in enumerate(classes[:5]):  # Hiển thị 5 lớp đầu\n",
    "    sample_image = os.listdir(os.path.join(dataset_path, cls))[0]\n",
    "    img_path = os.path.join(dataset_path, cls, sample_image)\n",
    "    \n",
    "    plt.subplot(2,3,i+1)\n",
    "    img = Image.open(img_path)\n",
    "    plt.imshow(img)\n",
    "    plt.title(f\"{cls}\\n{img.size[0]}x{img.size[1]}\")\n",
    "    plt.axis('off')\n",
    "\n",
    "plt.tight_layout()\n",
    "plt.show()"
   ]
  },
  {
   "cell_type": "markdown",
   "metadata": {},
   "source": [
    "## 6. Phân tích chi tiết\n",
    "Tạo bảng thống kê tổng hợp"
   ]
  },
  {
   "cell_type": "code",
   "execution_count": null,
   "metadata": {},
   "outputs": [],
   "source": [
    "# Tạo DataFrame chứa thông tin thống kê\n",
    "stats_df = pd.DataFrame({\n",
    "    'Lớp': list(class_counts.keys()),\n",
    "    'Số lượng': list(class_counts.values()),\n",
    "    'Tỷ lệ (%)': [count/sum(class_counts.values())*100 for count in class_counts.values()]\n",
    "})\n",
    "\n",
    "print(\"\\nBảng thống kê tổng hợp:\")\n",
    "display(stats_df.style.background_gradient(cmap='Blues'))"
   ]
  },
  {
   "cell_type": "markdown",
   "metadata": {},
   "source": [
    "## 7. Kết luận\n",
    "Từ các phân tích trên, chúng ta có thể rút ra các nhận xét ban đầu:\n",
    "- Dataset có **{total_classes}** lớp với tổng số **{total_images}** ảnh\n",
    "- Lớp phổ biến nhất là **{max_class}** chiếm **{max_percent:.1f}%** dataset\n",
    "- Định dạng ảnh chủ yếu là **{main_format}**\n",
    "- Kích thước ảnh trung bình là **{avg_width}x{avg_height}** px\n",
    "\n",
    "**Khuyến nghị:**\n",
    "- Cân bằng dataset nếu có lớp quá chênh lệch\n",
    "- Chuẩn hóa kích thước ảnh trước khi training\n",
    "- Kiểm tra thêm về chất lượng ảnh và metadata"
   ]
  }
 ],
 "metadata": {
  "kernelspec": {
   "display_name": "Python 3",
   "language": "python",
   "name": "python3"
  },
  "language_info": {
   "codemirror_mode": {
    "name": "ipython",
    "version": 3
   },
   "file_extension": ".py",
   "mimetype": "text/x-python",
   "name": "python",
   "nbconvert_exporter": "python",
   "pygments_lexer": "ipython3",
   "version": "3.8.5"
  }
 },
 "nbformat": 4,
 "nbformat_minor": 4
}